{
 "cells": [
  {
   "cell_type": "code",
   "execution_count": 1,
   "id": "further-dylan",
   "metadata": {},
   "outputs": [
    {
     "data": {
      "text/plain": [
       "'\\nHIGH DIMENSIONAL ANALYSIS\\nProgramming Exercise: 01\\nName: Vu Quang Minh\\nStudent Code: 18110150\\n'"
      ]
     },
     "execution_count": 1,
     "metadata": {},
     "output_type": "execute_result"
    }
   ],
   "source": [
    "\"\"\"\n",
    "HIGH DIMENSIONAL ANALYSIS\n",
    "Programming Exercise: 01\n",
    "Name: Vu Quang Minh\n",
    "Student Code: 18110150\n",
    "\"\"\""
   ]
  },
  {
   "cell_type": "code",
   "execution_count": 2,
   "id": "rural-sheffield",
   "metadata": {},
   "outputs": [],
   "source": [
    "import numpy as np\n",
    "import pandas as pd\n",
    "import matplotlib.pyplot as plt"
   ]
  },
  {
   "cell_type": "code",
   "execution_count": 3,
   "id": "quick-danger",
   "metadata": {},
   "outputs": [],
   "source": [
    "data = pd.read_csv('room-temperature.csv')"
   ]
  },
  {
   "cell_type": "code",
   "execution_count": 4,
   "id": "secondary-schema",
   "metadata": {},
   "outputs": [
    {
     "data": {
      "text/html": [
       "<div>\n",
       "<style scoped>\n",
       "    .dataframe tbody tr th:only-of-type {\n",
       "        vertical-align: middle;\n",
       "    }\n",
       "\n",
       "    .dataframe tbody tr th {\n",
       "        vertical-align: top;\n",
       "    }\n",
       "\n",
       "    .dataframe thead th {\n",
       "        text-align: right;\n",
       "    }\n",
       "</style>\n",
       "<table border=\"1\" class=\"dataframe\">\n",
       "  <thead>\n",
       "    <tr style=\"text-align: right;\">\n",
       "      <th></th>\n",
       "      <th>Date</th>\n",
       "      <th>FrontLeft</th>\n",
       "      <th>FrontRight</th>\n",
       "      <th>BackLeft</th>\n",
       "      <th>BackRight</th>\n",
       "    </tr>\n",
       "  </thead>\n",
       "  <tbody>\n",
       "    <tr>\n",
       "      <th>0</th>\n",
       "      <td>4/11/2010 11:30</td>\n",
       "      <td>295.2</td>\n",
       "      <td>297.0</td>\n",
       "      <td>295.8</td>\n",
       "      <td>296.3</td>\n",
       "    </tr>\n",
       "    <tr>\n",
       "      <th>1</th>\n",
       "      <td>4/11/2010 12:00</td>\n",
       "      <td>296.2</td>\n",
       "      <td>296.4</td>\n",
       "      <td>296.2</td>\n",
       "      <td>296.3</td>\n",
       "    </tr>\n",
       "    <tr>\n",
       "      <th>2</th>\n",
       "      <td>4/11/2010 12:30</td>\n",
       "      <td>297.3</td>\n",
       "      <td>297.5</td>\n",
       "      <td>296.7</td>\n",
       "      <td>297.1</td>\n",
       "    </tr>\n",
       "    <tr>\n",
       "      <th>3</th>\n",
       "      <td>4/11/2010 13:00</td>\n",
       "      <td>295.9</td>\n",
       "      <td>296.7</td>\n",
       "      <td>297.4</td>\n",
       "      <td>297.0</td>\n",
       "    </tr>\n",
       "    <tr>\n",
       "      <th>4</th>\n",
       "      <td>4/11/2010 13:30</td>\n",
       "      <td>297.2</td>\n",
       "      <td>296.5</td>\n",
       "      <td>297.6</td>\n",
       "      <td>297.4</td>\n",
       "    </tr>\n",
       "    <tr>\n",
       "      <th>...</th>\n",
       "      <td>...</td>\n",
       "      <td>...</td>\n",
       "      <td>...</td>\n",
       "      <td>...</td>\n",
       "      <td>...</td>\n",
       "    </tr>\n",
       "    <tr>\n",
       "      <th>139</th>\n",
       "      <td>4/14/2010 9:00</td>\n",
       "      <td>295.8</td>\n",
       "      <td>294.6</td>\n",
       "      <td>294.8</td>\n",
       "      <td>295.7</td>\n",
       "    </tr>\n",
       "    <tr>\n",
       "      <th>140</th>\n",
       "      <td>4/14/2010 9:30</td>\n",
       "      <td>294.8</td>\n",
       "      <td>295.5</td>\n",
       "      <td>294.7</td>\n",
       "      <td>295.6</td>\n",
       "    </tr>\n",
       "    <tr>\n",
       "      <th>141</th>\n",
       "      <td>4/14/2010 10:00</td>\n",
       "      <td>295.9</td>\n",
       "      <td>295.8</td>\n",
       "      <td>295.5</td>\n",
       "      <td>295.2</td>\n",
       "    </tr>\n",
       "    <tr>\n",
       "      <th>142</th>\n",
       "      <td>4/14/2010 10:30</td>\n",
       "      <td>295.1</td>\n",
       "      <td>296.2</td>\n",
       "      <td>296.0</td>\n",
       "      <td>296.1</td>\n",
       "    </tr>\n",
       "    <tr>\n",
       "      <th>143</th>\n",
       "      <td>4/14/2010 11:00</td>\n",
       "      <td>296.2</td>\n",
       "      <td>297.2</td>\n",
       "      <td>296.6</td>\n",
       "      <td>296.0</td>\n",
       "    </tr>\n",
       "  </tbody>\n",
       "</table>\n",
       "<p>144 rows × 5 columns</p>\n",
       "</div>"
      ],
      "text/plain": [
       "                Date  FrontLeft  FrontRight  BackLeft  BackRight\n",
       "0    4/11/2010 11:30      295.2       297.0     295.8      296.3\n",
       "1    4/11/2010 12:00      296.2       296.4     296.2      296.3\n",
       "2    4/11/2010 12:30      297.3       297.5     296.7      297.1\n",
       "3    4/11/2010 13:00      295.9       296.7     297.4      297.0\n",
       "4    4/11/2010 13:30      297.2       296.5     297.6      297.4\n",
       "..               ...        ...         ...       ...        ...\n",
       "139   4/14/2010 9:00      295.8       294.6     294.8      295.7\n",
       "140   4/14/2010 9:30      294.8       295.5     294.7      295.6\n",
       "141  4/14/2010 10:00      295.9       295.8     295.5      295.2\n",
       "142  4/14/2010 10:30      295.1       296.2     296.0      296.1\n",
       "143  4/14/2010 11:00      296.2       297.2     296.6      296.0\n",
       "\n",
       "[144 rows x 5 columns]"
      ]
     },
     "execution_count": 4,
     "metadata": {},
     "output_type": "execute_result"
    }
   ],
   "source": [
    "data"
   ]
  },
  {
   "cell_type": "code",
   "execution_count": 5,
   "id": "monetary-reflection",
   "metadata": {},
   "outputs": [
    {
     "data": {
      "image/png": "[encoded data removed]",
      "text/plain": [
       "<Figure size 432x432 with 4 Axes>"
      ]
     },
     "metadata": {
      "needs_background": "light"
     },
     "output_type": "display_data"
    }
   ],
   "source": [
    "series = pd.read_csv('room-temperature.csv',header=0, index_col=0, parse_dates=True, squeeze=True)\n",
    "series.plot(subplots=True, figsize=(6,6))\n",
    "plt.show()"
   ]
  },
  {
   "cell_type": "code",
   "execution_count": 6,
   "id": "combined-manner",
   "metadata": {},
   "outputs": [
    {
     "data": {
      "text/plain": [
       "((144,), (144,), (144,), (144,), (144,))"
      ]
     },
     "execution_count": 6,
     "metadata": {},
     "output_type": "execute_result"
    }
   ],
   "source": [
    "date,FL,FR = data[\"Date\"].values,data[\"FrontLeft\"].values,data[\"FrontRight\"].values\n",
    "BL,BR = data[\"BackLeft\"].values,data[\"BackRight\"].values\n",
    "date.shape,FL.shape,FR.shape,BL.shape,BR.shape"
   ]
  },
  {
   "cell_type": "markdown",
   "id": "cheap-transaction",
   "metadata": {},
   "source": [
    "# Implementing PCA"
   ]
  },
  {
   "cell_type": "markdown",
   "id": "minimal-basics",
   "metadata": {},
   "source": [
    "We have PCA step by step:\n",
    "\n",
    "1. Read dataset & preprocessing mean/variance.\n",
    "2. Compute the covariance matrix\n",
    "3. Compute eigenvals & eigenvectors of cov_mat\n",
    "4. Sort from biggest to smallest and choosing k eigenvectors with the largest eigenvalues\n",
    "5. Project onto the new vectors."
   ]
  },
  {
   "cell_type": "markdown",
   "id": "funky-income",
   "metadata": {},
   "source": [
    "**Step 1: Computing the d-dimensional mean vector**\n",
    "\n",
    "(Because, We have \"Date\" column representing time, so we don't need data to reduce the dimension, we will use \"Date\" column when we plot So we need to reduce 4 dimensions into 1 dimension)"
   ]
  },
  {
   "cell_type": "code",
   "execution_count": 7,
   "id": "enclosed-elder",
   "metadata": {},
   "outputs": [
    {
     "data": {
      "text/plain": [
       "(144, 4)"
      ]
     },
     "execution_count": 7,
     "metadata": {},
     "output_type": "execute_result"
    }
   ],
   "source": [
    "import statistics as stat\n",
    "all_feature = np.stack([FL,FR,BL,BR],axis=1)\n",
    "all_feature.shape"
   ]
  },
  {
   "cell_type": "code",
   "execution_count": 8,
   "id": "cleared-elizabeth",
   "metadata": {},
   "outputs": [
    {
     "name": "stdout",
     "output_type": "stream",
     "text": [
      "Mean Vector:\n",
      " [[294.50763889]\n",
      " [294.62847222]\n",
      " [295.0625    ]\n",
      " [294.97708333]]\n"
     ]
    }
   ],
   "source": [
    "mean_FT=stat.mean(FL)     #data[\"FrontLeft\"].values\n",
    "mean_FR=stat.mean(FR)     #data[\"FrontRight\"].values\n",
    "mean_BL=stat.mean(BL)     #data[\"BackLeft\"].values\n",
    "mean_BR=stat.mean(BR)     #data[\"BackRight\"].values\n",
    "\n",
    "\n",
    "mean_vector = np.array([[mean_FT],[mean_FR],[mean_BL],[mean_BR]])\n",
    "print('Mean Vector:\\n', mean_vector)"
   ]
  },
  {
   "cell_type": "markdown",
   "id": "fresh-bearing",
   "metadata": {},
   "source": [
    "**Step 2: Compute the covariance Matrix**\n",
    "\n",
    "(using the in-built numpy.cov() function)\n",
    "\n",
    "$$Cov(X, Y) = Σ ( X_i - Xm) ( Y_i - Ym ) / N$$\n",
    "\n",
    "$$Cov (X) = E (E(X - Xm)’ * E(X - Xm))$$\n"
   ]
  },
  {
   "cell_type": "code",
   "execution_count": 9,
   "id": "touched-bishop",
   "metadata": {},
   "outputs": [
    {
     "name": "stdout",
     "output_type": "stream",
     "text": [
      "Covariance Matrix:\n",
      " [[2.70448669 2.4044663  1.45784091 1.64101544]\n",
      " [2.4044663  2.94163122 1.60030594 1.80590181]\n",
      " [1.45784091 1.60030594 2.52082168 2.31242133]\n",
      " [1.64101544 1.80590181 2.31242133 2.71436626]]\n"
     ]
    }
   ],
   "source": [
    "cov_mat = np.cov([FL,FR,BL,BR])\n",
    "print('Covariance Matrix:\\n', cov_mat)"
   ]
  },
  {
   "cell_type": "markdown",
   "id": "revolutionary-attitude",
   "metadata": {},
   "source": [
    "**Step 3: Computing eigenvectors and corresponding eigenvalues**"
   ]
  },
  {
   "cell_type": "code",
   "execution_count": 10,
   "id": "reverse-puzzle",
   "metadata": {},
   "outputs": [
    {
     "name": "stdout",
     "output_type": "stream",
     "text": [
      "Eigenvector 1: \n",
      "[[-0.49391128]\n",
      " [-0.52817872]\n",
      " [-0.46980861]\n",
      " [-0.50631883]]\n",
      "Eigenvalue 1 from covariance matrix: 8.344712592087824\n",
      "----------------------------------------\n",
      "Eigenvector 2: \n",
      "[[-0.50203076]\n",
      " [-0.47304176]\n",
      " [ 0.54077759]\n",
      " [ 0.48141065]]\n",
      "Eigenvalue 2 from covariance matrix: 1.8261400368157514\n",
      "----------------------------------------\n",
      "Eigenvector 3: \n",
      "[[-0.70984479]\n",
      " [ 0.70076399]\n",
      " [-0.06702403]\n",
      " [ 0.02362183]]\n",
      "Eigenvalue 3 from covariance matrix: 0.4138213893667476\n",
      "----------------------------------------\n",
      "Eigenvector 4: \n",
      "[[ 0.01171101]\n",
      " [-0.07866743]\n",
      " [-0.69451224]\n",
      " [ 0.71507135]]\n",
      "Eigenvalue 4 from covariance matrix: 0.29663182866050913\n",
      "----------------------------------------\n"
     ]
    }
   ],
   "source": [
    "#eig_val = eigenvalues , eig_vec = eigenvectors\n",
    "eig_val, eig_vec = np.linalg.eig(cov_mat)\n",
    "\n",
    "#Print eigenvectors and eigenvalues\n",
    "for i in range(len(eig_val)):\n",
    "    eigvec = eig_vec[:,i].reshape(1,4).T\n",
    "    \n",
    "    print('Eigenvector {}: \\n{}'.format(i+1, eigvec))\n",
    "    print('Eigenvalue {} from covariance matrix: {}'.format(i+1, eig_val[i]))\n",
    "    \n",
    "    print(40 * '-')"
   ]
  },
  {
   "cell_type": "markdown",
   "id": "juvenile-reflection",
   "metadata": {},
   "source": [
    "**Step 4:**\n",
    "\n",
    "**Step 4.1: Sorting the eigenvectors by decreasing eigenvalues**\n",
    "\n",
    "We started with the goal to reduce the dimensionality of our feature space, i.e., projecting the feature space via PCA onto a smaller subspace, where the eigenvectors will form the axes of this new feature subspace. "
   ]
  },
  {
   "cell_type": "code",
   "execution_count": 11,
   "id": "interior-annual",
   "metadata": {},
   "outputs": [],
   "source": [
    "for ev in eig_vec:\n",
    "    np.testing.assert_array_almost_equal(1.0, np.linalg.norm(ev))\n",
    "    #instead of 'assert' because of rounding errors"
   ]
  },
  {
   "cell_type": "markdown",
   "id": "placed-jewelry",
   "metadata": {},
   "source": [
    "Rank the eigenvectors from highest to lowest corresponding eigenvalue and choose the top k eigenvectors."
   ]
  },
  {
   "cell_type": "code",
   "execution_count": 12,
   "id": "comparative-grain",
   "metadata": {},
   "outputs": [
    {
     "name": "stdout",
     "output_type": "stream",
     "text": [
      "8.344712592087824\n",
      "1.8261400368157514\n",
      "0.4138213893667476\n",
      "0.29663182866050913\n"
     ]
    }
   ],
   "source": [
    "# Make a list of (eigenvalue, eigenvector) tuples\n",
    "eig_pairs = [(np.abs(eig_val[i]), eig_vec[:,i]) for i in range(len(eig_val))]\n",
    "\n",
    "# Sort the (eigenvalue, eigenvector) tuples from high to low\n",
    "eig_pairs.sort(key=lambda x: x[0], reverse=True)\n",
    "\n",
    "# Visually confirm that the list is correctly sorted by decreasing eigenvalues\n",
    "for i in eig_pairs:\n",
    "    print(i[0])"
   ]
  },
  {
   "cell_type": "markdown",
   "id": "verified-regression",
   "metadata": {},
   "source": [
    "**Step 4.2: Choosing k eigenvectors with the largest eigenvalues **\n",
    "\n",
    "For our simple example, where we are reducing a 4-dimensional feature space to a 1-dimensional feature subspace, we are combining the two eigenvectors with the highest eigenvalues to construct our d×k-dimensional eigenvector matrix W"
   ]
  },
  {
   "cell_type": "code",
   "execution_count": 13,
   "id": "aware-region",
   "metadata": {},
   "outputs": [
    {
     "name": "stdout",
     "output_type": "stream",
     "text": [
      "Matrix W:\n",
      " [-0.49391128 -0.52817872 -0.46980861 -0.50631883]\n",
      "(4,)\n",
      "(4, 1)\n"
     ]
    }
   ],
   "source": [
    "matrix_w = np.hstack((eig_pairs[0][1].reshape(4,1)))\n",
    "print('Matrix W:\\n', matrix_w)\n",
    "print(matrix_w.shape)\n",
    "matrix_w=matrix_w.reshape(4,1)\n",
    "print(matrix_w.shape)"
   ]
  },
  {
   "cell_type": "markdown",
   "id": "above-latter",
   "metadata": {},
   "source": [
    "**Step 5: Transforming the samples onto the new subspace**\n",
    "\n",
    "In the last step, we use the $1×4$-dimensional matrix $W$ that we just computed to transform our samples onto the new subspace via the equation \n",
    "$$y=W^T×x$$"
   ]
  },
  {
   "cell_type": "code",
   "execution_count": 14,
   "id": "affiliated-denial",
   "metadata": {},
   "outputs": [
    {
     "name": "stdout",
     "output_type": "stream",
     "text": [
      "(144, 4)\n",
      "(4, 1)\n",
      "(144, 1)\n"
     ]
    }
   ],
   "source": [
    "print(all_feature.shape)\n",
    "print(matrix_w.shape)\n",
    "transformed = np.matmul(all_feature,matrix_w)\n",
    "transformed=np.absolute(transformed)\n",
    "print(transformed.shape)"
   ]
  },
  {
   "cell_type": "code",
   "execution_count": 15,
   "id": "public-collaboration",
   "metadata": {},
   "outputs": [
    {
     "data": {
      "text/html": [
       "<div>\n",
       "<style scoped>\n",
       "    .dataframe tbody tr th:only-of-type {\n",
       "        vertical-align: middle;\n",
       "    }\n",
       "\n",
       "    .dataframe tbody tr th {\n",
       "        vertical-align: top;\n",
       "    }\n",
       "\n",
       "    .dataframe thead th {\n",
       "        text-align: right;\n",
       "    }\n",
       "</style>\n",
       "<table border=\"1\" class=\"dataframe\">\n",
       "  <thead>\n",
       "    <tr style=\"text-align: right;\">\n",
       "      <th></th>\n",
       "      <th>Transformed</th>\n",
       "    </tr>\n",
       "  </thead>\n",
       "  <tbody>\n",
       "    <tr>\n",
       "      <th>0</th>\n",
       "      <td>591.663346</td>\n",
       "    </tr>\n",
       "    <tr>\n",
       "      <th>1</th>\n",
       "      <td>592.028273</td>\n",
       "    </tr>\n",
       "    <tr>\n",
       "      <th>2</th>\n",
       "      <td>593.792531</td>\n",
       "    </tr>\n",
       "    <tr>\n",
       "      <th>3</th>\n",
       "      <td>592.956747</td>\n",
       "    </tr>\n",
       "    <tr>\n",
       "      <th>4</th>\n",
       "      <td>593.789685</td>\n",
       "    </tr>\n",
       "  </tbody>\n",
       "</table>\n",
       "</div>"
      ],
      "text/plain": [
       "   Transformed\n",
       "0   591.663346\n",
       "1   592.028273\n",
       "2   593.792531\n",
       "3   592.956747\n",
       "4   593.789685"
      ]
     },
     "execution_count": 15,
     "metadata": {},
     "output_type": "execute_result"
    }
   ],
   "source": [
    "transformedDF = pd.DataFrame(data = transformed, columns = ['Transformed'])\n",
    "transformedDF.head()"
   ]
  },
  {
   "cell_type": "code",
   "execution_count": 16,
   "id": "fluid-persian",
   "metadata": {},
   "outputs": [
    {
     "data": {
      "text/html": [
       "<div>\n",
       "<style scoped>\n",
       "    .dataframe tbody tr th:only-of-type {\n",
       "        vertical-align: middle;\n",
       "    }\n",
       "\n",
       "    .dataframe tbody tr th {\n",
       "        vertical-align: top;\n",
       "    }\n",
       "\n",
       "    .dataframe thead th {\n",
       "        text-align: right;\n",
       "    }\n",
       "</style>\n",
       "<table border=\"1\" class=\"dataframe\">\n",
       "  <thead>\n",
       "    <tr style=\"text-align: right;\">\n",
       "      <th></th>\n",
       "      <th>Date</th>\n",
       "      <th>Transformed</th>\n",
       "    </tr>\n",
       "  </thead>\n",
       "  <tbody>\n",
       "    <tr>\n",
       "      <th>0</th>\n",
       "      <td>4/11/2010 11:30</td>\n",
       "      <td>591.663346</td>\n",
       "    </tr>\n",
       "    <tr>\n",
       "      <th>1</th>\n",
       "      <td>4/11/2010 12:00</td>\n",
       "      <td>592.028273</td>\n",
       "    </tr>\n",
       "    <tr>\n",
       "      <th>2</th>\n",
       "      <td>4/11/2010 12:30</td>\n",
       "      <td>593.792531</td>\n",
       "    </tr>\n",
       "    <tr>\n",
       "      <th>3</th>\n",
       "      <td>4/11/2010 13:00</td>\n",
       "      <td>592.956747</td>\n",
       "    </tr>\n",
       "    <tr>\n",
       "      <th>4</th>\n",
       "      <td>4/11/2010 13:30</td>\n",
       "      <td>593.789685</td>\n",
       "    </tr>\n",
       "  </tbody>\n",
       "</table>\n",
       "</div>"
      ],
      "text/plain": [
       "              Date  Transformed\n",
       "0  4/11/2010 11:30   591.663346\n",
       "1  4/11/2010 12:00   592.028273\n",
       "2  4/11/2010 12:30   593.792531\n",
       "3  4/11/2010 13:00   592.956747\n",
       "4  4/11/2010 13:30   593.789685"
      ]
     },
     "execution_count": 16,
     "metadata": {},
     "output_type": "execute_result"
    }
   ],
   "source": [
    "FinalDf = pd.concat([data[['Date']],transformedDF], axis = 1)\n",
    "FinalDf.head()"
   ]
  },
  {
   "cell_type": "code",
   "execution_count": 17,
   "id": "modern-castle",
   "metadata": {},
   "outputs": [
    {
     "data": {
      "image/png": "[encoded data removed]",
      "text/plain": [
       "<Figure size 432x288 with 1 Axes>"
      ]
     },
     "metadata": {
      "needs_background": "light"
     },
     "output_type": "display_data"
    },
    {
     "data": {
      "image/png": "[encoded data removed]",
      "text/plain": [
       "<Figure size 432x288 with 1 Axes>"
      ]
     },
     "metadata": {
      "needs_background": "light"
     },
     "output_type": "display_data"
    }
   ],
   "source": [
    "PC = FinalDf[\"Transformed\"].values\n",
    "x=date\n",
    "y=PC\n",
    "plt.scatter(x,y)\n",
    "fig = plt.figure()\n",
    "fig.suptitle('Time series plot for transformed of temperature data')\n",
    "plt.xlabel('time')\n",
    "plt.ylabel('')\n",
    "plt.plot(x,y)\n",
    "plt.show()"
   ]
  },
  {
   "cell_type": "markdown",
   "id": "linear-happiness",
   "metadata": {},
   "source": [
    "\n",
    "3.After observing these time series plot in (1.), how many latent variables should we use for the PCA algorithm to keep the most meaningful information? Apply the PCA for the temperature data by your chosen number of latent variables.\n",
    "---"
   ]
  },
  {
   "cell_type": "markdown",
   "id": "terminal-nicaragua",
   "metadata": {},
   "source": [
    "I think, we need keep all variables should we use for the PCA algorithm. Because, in the room, the temperature in each corner is not the same, although there are similar timelines but there are still changes. Or you can choose from 2 to 3 random components.\n",
    "\n",
    "The content below I choose 2 feature FrontLeft and BackLeft, indicating the left side of the room\n",
    "\n",
    "You can change the feature, and run again under program."
   ]
  },
  {
   "cell_type": "markdown",
   "id": "collaborative-livestock",
   "metadata": {},
   "source": [
    "\n",
    "Implementing PCA with Scikit-Learn\n",
    "---"
   ]
  },
  {
   "cell_type": "code",
   "execution_count": 18,
   "id": "unnecessary-shoot",
   "metadata": {},
   "outputs": [],
   "source": [
    "import numpy as np  \n",
    "import pandas as pd\n",
    "from sklearn.preprocessing import StandardScaler"
   ]
  },
  {
   "cell_type": "markdown",
   "id": "moving-garage",
   "metadata": {},
   "source": [
    "**1. Preprocessing data **\n",
    "\n",
    "Because PCA performs best with a normalized feature set. I will perform standard scalar normalization to normalize our feature set."
   ]
  },
  {
   "cell_type": "code",
   "execution_count": 19,
   "id": "frank-programming",
   "metadata": {},
   "outputs": [],
   "source": [
    "# features=['FrontLeft','FrontRight','BackLeft','BackRight']\n",
    "features=['FrontLeft','BackLeft']"
   ]
  },
  {
   "cell_type": "code",
   "execution_count": 20,
   "id": "international-movement",
   "metadata": {},
   "outputs": [],
   "source": [
    "# Separating out the features\n",
    "x_pca = data.loc[:, features].values\n",
    "\n",
    "# Separating out the target\n",
    "y_pca = data.loc[:,['Date']].values\n",
    "\n",
    "# Standardizing the features\n",
    "x_pca = StandardScaler().fit_transform(x_pca)"
   ]
  },
  {
   "cell_type": "markdown",
   "id": "handed-linux",
   "metadata": {},
   "source": [
    "Data after standard:"
   ]
  },
  {
   "cell_type": "code",
   "execution_count": 21,
   "id": "widespread-inventory",
   "metadata": {},
   "outputs": [
    {
     "name": "stdout",
     "output_type": "stream",
     "text": [
      "['FrontLeft', 'BackLeft']\n",
      "[[ 0.42247739  0.46612692]\n",
      " [ 1.03267542  0.71894153]\n",
      " [ 1.70389326  1.03495978]\n",
      " [ 0.84961601  1.47738534]\n",
      " [ 1.64287345  1.60379264]\n",
      " [ 1.27675463  1.03495978]\n",
      " [ 1.82593286  1.54058899]\n",
      " [ 0.91063581  1.28777438]\n",
      " [ 1.94797247  1.60379264]\n",
      " [ 1.45981404  1.22457073]\n",
      " [ 1.33777444  1.28777438]\n",
      " [ 1.52083385  1.03495978]\n",
      " [ 1.70389326  0.65573788]\n",
      " [ 0.17839817  0.46612692]\n",
      " [ 0.97165562  0.78214518]\n",
      " [ 0.84961601  0.27651597]\n",
      " [ 0.23941798  0.02370137]\n",
      " [ 0.36145758  0.08690502]\n",
      " [-0.37078005  0.08690502]\n",
      " [ 0.17839817 -0.03950228]\n",
      " [-0.06568104 -0.60833514]\n",
      " [-0.67587907 -0.60833514]\n",
      " [ 0.05635857 -0.54513149]\n",
      " [-1.2860771  -1.05076069]\n",
      " [-0.85893848 -0.67153879]\n",
      " [-0.55383946 -1.05076069]\n",
      " [-1.04199789 -1.49318625]\n",
      " [-0.98097809 -1.05076069]\n",
      " [-1.10301769 -1.4299826 ]\n",
      " [-1.1640375  -0.86114974]\n",
      " [-0.98097809 -1.4299826 ]\n",
      " [-0.73689887 -0.86114974]\n",
      " [-1.89627513 -0.60833514]\n",
      " [-1.53015632 -1.11396435]\n",
      " [-0.91995828 -1.05076069]\n",
      " [-0.24874045 -1.24037165]\n",
      " [-0.37078005 -0.92435339]\n",
      " [-0.79791868 -0.60833514]\n",
      " [-0.43179986 -0.03950228]\n",
      " [ 0.05635857 -0.16590958]\n",
      " [ 0.78859621 -0.60833514]\n",
      " [ 0.05635857  0.21331232]\n",
      " [-0.06568104 -0.22911323]\n",
      " [ 0.42247739  0.71894153]\n",
      " [ 1.09369522  0.71894153]\n",
      " [-0.18772064  0.65573788]\n",
      " [ 0.23941798  0.27651597]\n",
      " [ 0.11737837  0.97175613]\n",
      " [-0.06568104  0.71894153]\n",
      " [-0.67587907  0.78214518]\n",
      " [-2.62851277  1.09816343]\n",
      " [-1.65219592  0.71894153]\n",
      " [-1.34709691  1.28777438]\n",
      " [-1.65219592  1.41418169]\n",
      " [-1.2250573   1.60379264]\n",
      " [-1.34709691  1.09816343]\n",
      " [-1.1640375   1.09816343]\n",
      " [-0.85893848  1.60379264]\n",
      " [-1.53015632  1.54058899]\n",
      " [-0.73689887  0.46612692]\n",
      " [ 1.21573483  1.09816343]\n",
      " [ 0.78859621  1.09816343]\n",
      " [ 0.7275764   0.40292327]\n",
      " [ 0.30043778  0.78214518]\n",
      " [ 0.7275764   0.21331232]\n",
      " [ 0.36145758  0.02370137]\n",
      " [-0.24874045 -0.41872419]\n",
      " [-0.24874045  0.21331232]\n",
      " [ 0.36145758 -0.73474244]\n",
      " [ 0.30043778 -1.61959355]\n",
      " [-0.85893848 -1.177168  ]\n",
      " [-0.30976025 -1.11396435]\n",
      " [-0.91995828 -1.4299826 ]\n",
      " [-1.34709691 -0.67153879]\n",
      " [-0.55383946 -1.5563899 ]\n",
      " [ 0.05635857 -1.49318625]\n",
      " [-0.55383946 -1.36677895]\n",
      " [-0.91995828 -1.177168  ]\n",
      " [-0.85893848 -1.87240815]\n",
      " [-1.34709691 -1.99881546]\n",
      " [-0.67587907 -1.6827972 ]\n",
      " [-1.1640375  -1.177168  ]\n",
      " [-1.1640375  -1.36677895]\n",
      " [-0.73689887 -0.98755704]\n",
      " [-0.06568104 -1.3035753 ]\n",
      " [-0.24874045 -0.60833514]\n",
      " [-0.06568104 -0.67153879]\n",
      " [-0.30976025 -0.54513149]\n",
      " [-0.43179986 -0.22911323]\n",
      " [-0.85893848 -0.16590958]\n",
      " [ 0.36145758  0.02370137]\n",
      " [ 0.23941798 -0.35552054]\n",
      " [ 0.23941798  0.40292327]\n",
      " [ 1.58185365  0.40292327]\n",
      " [ 0.97165562  0.78214518]\n",
      " [ 1.15471503  0.84534883]\n",
      " [ 0.7275764   0.78214518]\n",
      " [ 1.82593286  1.16136708]\n",
      " [ 0.97165562  1.60379264]\n",
      " [ 1.33777444  1.35097804]\n",
      " [ 1.70389326  1.28777438]\n",
      " [ 1.58185365  1.35097804]\n",
      " [ 1.45981404  1.60379264]\n",
      " [ 1.27675463  1.09816343]\n",
      " [ 2.19205168  1.28777438]\n",
      " [ 1.64287345  1.09816343]\n",
      " [ 1.76491306  0.65573788]\n",
      " [ 1.27675463  1.28777438]\n",
      " [ 0.17839817  1.22457073]\n",
      " [ 0.97165562  0.71894153]\n",
      " [ 1.15471503  0.59253423]\n",
      " [ 0.78859621  0.65573788]\n",
      " [ 0.6055368   0.84534883]\n",
      " [ 0.84961601  0.15010867]\n",
      " [ 0.6055368   0.59253423]\n",
      " [ 0.05635857  0.21331232]\n",
      " [-0.37078005 -0.92435339]\n",
      " [-0.49281966 -0.54513149]\n",
      " [-0.91995828 -0.54513149]\n",
      " [-1.10301769 -0.92435339]\n",
      " [-1.04199789 -0.67153879]\n",
      " [-0.24874045 -0.98755704]\n",
      " [-0.85893848 -0.98755704]\n",
      " [-0.30976025 -1.3035753 ]\n",
      " [-1.10301769 -1.87240815]\n",
      " [-1.10301769 -1.24037165]\n",
      " [-1.40811671 -1.6827972 ]\n",
      " [-1.04199789 -1.11396435]\n",
      " [-0.61485927 -1.24037165]\n",
      " [-0.73689887 -0.35552054]\n",
      " [-1.10301769  1.47738534]\n",
      " [-1.46913651 -1.6827972 ]\n",
      " [-1.40811671 -0.29231688]\n",
      " [-0.06568104 -0.67153879]\n",
      " [ 0.11737837 -0.29231688]\n",
      " [-0.00466123 -0.10270593]\n",
      " [ 0.78859621 -0.67153879]\n",
      " [-0.06568104 -0.54513149]\n",
      " [ 0.78859621  0.21331232]\n",
      " [ 0.78859621 -0.16590958]\n",
      " [ 0.17839817 -0.22911323]\n",
      " [ 0.84961601  0.27651597]\n",
      " [ 0.36145758  0.59253423]\n",
      " [ 1.03267542  0.97175613]]\n"
     ]
    }
   ],
   "source": [
    "print(features)\n",
    "print(x_pca)"
   ]
  },
  {
   "cell_type": "markdown",
   "id": "sealed-scholar",
   "metadata": {},
   "source": [
    "**PCA projection to 2D**\n",
    "\n",
    "x_pca has 2 columns, So I  reduce from 2 dimensions into 1 dimensions.\n",
    "The new components are just the two main dimensions of variation."
   ]
  },
  {
   "cell_type": "code",
   "execution_count": 22,
   "id": "logical-payday",
   "metadata": {},
   "outputs": [
    {
     "data": {
      "text/html": [
       "<div>\n",
       "<style scoped>\n",
       "    .dataframe tbody tr th:only-of-type {\n",
       "        vertical-align: middle;\n",
       "    }\n",
       "\n",
       "    .dataframe tbody tr th {\n",
       "        vertical-align: top;\n",
       "    }\n",
       "\n",
       "    .dataframe thead th {\n",
       "        text-align: right;\n",
       "    }\n",
       "</style>\n",
       "<table border=\"1\" class=\"dataframe\">\n",
       "  <thead>\n",
       "    <tr style=\"text-align: right;\">\n",
       "      <th></th>\n",
       "      <th>PComponent</th>\n",
       "    </tr>\n",
       "  </thead>\n",
       "  <tbody>\n",
       "    <tr>\n",
       "      <th>0</th>\n",
       "      <td>0.628338</td>\n",
       "    </tr>\n",
       "    <tr>\n",
       "      <th>1</th>\n",
       "      <td>1.238580</td>\n",
       "    </tr>\n",
       "    <tr>\n",
       "      <th>2</th>\n",
       "      <td>1.936662</td>\n",
       "    </tr>\n",
       "    <tr>\n",
       "      <th>3</th>\n",
       "      <td>1.645438</td>\n",
       "    </tr>\n",
       "    <tr>\n",
       "      <th>4</th>\n",
       "      <td>2.295740</td>\n",
       "    </tr>\n",
       "  </tbody>\n",
       "</table>\n",
       "</div>"
      ],
      "text/plain": [
       "   PComponent\n",
       "0    0.628338\n",
       "1    1.238580\n",
       "2    1.936662\n",
       "3    1.645438\n",
       "4    2.295740"
      ]
     },
     "execution_count": 22,
     "metadata": {},
     "output_type": "execute_result"
    }
   ],
   "source": [
    "from sklearn.decomposition import PCA\n",
    "pca = PCA(n_components=1)\n",
    "principalComponents = pca.fit_transform(x_pca)\n",
    "# print(principalComponents)\n",
    "principalDf = pd.DataFrame(data = principalComponents, columns = ['PComponent'])\n",
    "principalDf.head()"
   ]
  },
  {
   "cell_type": "code",
   "execution_count": 23,
   "id": "every-maximum",
   "metadata": {},
   "outputs": [
    {
     "data": {
      "text/html": [
       "<div>\n",
       "<style scoped>\n",
       "    .dataframe tbody tr th:only-of-type {\n",
       "        vertical-align: middle;\n",
       "    }\n",
       "\n",
       "    .dataframe tbody tr th {\n",
       "        vertical-align: top;\n",
       "    }\n",
       "\n",
       "    .dataframe thead th {\n",
       "        text-align: right;\n",
       "    }\n",
       "</style>\n",
       "<table border=\"1\" class=\"dataframe\">\n",
       "  <thead>\n",
       "    <tr style=\"text-align: right;\">\n",
       "      <th></th>\n",
       "      <th>Date</th>\n",
       "      <th>PComponent</th>\n",
       "    </tr>\n",
       "  </thead>\n",
       "  <tbody>\n",
       "    <tr>\n",
       "      <th>0</th>\n",
       "      <td>4/11/2010 11:30</td>\n",
       "      <td>0.628338</td>\n",
       "    </tr>\n",
       "    <tr>\n",
       "      <th>1</th>\n",
       "      <td>4/11/2010 12:00</td>\n",
       "      <td>1.238580</td>\n",
       "    </tr>\n",
       "    <tr>\n",
       "      <th>2</th>\n",
       "      <td>4/11/2010 12:30</td>\n",
       "      <td>1.936662</td>\n",
       "    </tr>\n",
       "    <tr>\n",
       "      <th>3</th>\n",
       "      <td>4/11/2010 13:00</td>\n",
       "      <td>1.645438</td>\n",
       "    </tr>\n",
       "    <tr>\n",
       "      <th>4</th>\n",
       "      <td>4/11/2010 13:30</td>\n",
       "      <td>2.295740</td>\n",
       "    </tr>\n",
       "  </tbody>\n",
       "</table>\n",
       "</div>"
      ],
      "text/plain": [
       "              Date  PComponent\n",
       "0  4/11/2010 11:30    0.628338\n",
       "1  4/11/2010 12:00    1.238580\n",
       "2  4/11/2010 12:30    1.936662\n",
       "3  4/11/2010 13:00    1.645438\n",
       "4  4/11/2010 13:30    2.295740"
      ]
     },
     "execution_count": 23,
     "metadata": {},
     "output_type": "execute_result"
    }
   ],
   "source": [
    "finalDf = pd.concat([data[['Date']],principalDf], axis = 1)\n",
    "finalDf.head()"
   ]
  },
  {
   "cell_type": "code",
   "execution_count": 24,
   "id": "fantastic-civilian",
   "metadata": {},
   "outputs": [
    {
     "data": {
      "image/png": "[encoded data removed]",
      "text/plain": [
       "<Figure size 432x288 with 1 Axes>"
      ]
     },
     "metadata": {
      "needs_background": "light"
     },
     "output_type": "display_data"
    },
    {
     "data": {
      "image/png": "[encoded data removed]",
      "text/plain": [
       "<Figure size 432x288 with 1 Axes>"
      ]
     },
     "metadata": {
      "needs_background": "light"
     },
     "output_type": "display_data"
    }
   ],
   "source": [
    "PC = finalDf[\"PComponent\"].values\n",
    "x=date\n",
    "y=PC\n",
    "plt.scatter(x,y)\n",
    "fig = plt.figure()\n",
    "fig.suptitle('Time series plot for PrincipalComponents of temperature data')\n",
    "plt.xlabel('time')\n",
    "plt.ylabel('Principal Components')\n",
    "plt.plot(x,y)\n",
    "plt.show()"
   ]
  }
 ],
 "metadata": {
  "kernelspec": {
   "display_name": "Python 3",
   "language": "python",
   "name": "python3"
  },
  "language_info": {
   "codemirror_mode": {
    "name": "ipython",
    "version": 3
   },
   "file_extension": ".py",
   "mimetype": "text/x-python",
   "name": "python",
   "nbconvert_exporter": "python",
   "pygments_lexer": "ipython3",
   "version": "3.8.5"
  }
 },
 "nbformat": 4,
 "nbformat_minor": 5
}
