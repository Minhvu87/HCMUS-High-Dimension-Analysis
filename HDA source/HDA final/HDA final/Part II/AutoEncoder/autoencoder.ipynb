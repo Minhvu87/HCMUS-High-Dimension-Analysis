{
 "cells": [
  {
   "cell_type": "code",
   "execution_count": 1,
   "metadata": {},
   "outputs": [],
   "source": [
    "import keras\n",
    "from keras.datasets import mnist\n",
    "from keras.models import Sequential\n",
    "from keras.layers import Dense, Dropout, Flatten\n",
    "from keras.layers import Conv2D, MaxPooling2D\n",
    "from keras.layers import Input, Dense\n",
    "from keras.optimizers import RMSprop\n",
    "from keras import backend as K\n",
    "from keras.models import Model\n",
    "from keras.datasets import mnist\n",
    "from keras import regularizers\n",
    "from keras.utils import np_utils\n",
    "#from keras.utils import to_categorical\n",
    "import tensorflow.python as tf\n",
    "from tensorflow import keras\n",
    "\n",
    "from sklearn.linear_model import LogisticRegression\n",
    "from sklearn.ensemble import RandomForestClassifier\n",
    "from sklearn.svm import LinearSVC\n",
    "from sklearn.metrics import accuracy_score\n",
    "\n",
    "import numpy as np\n",
    "import matplotlib.pyplot as plt\n",
    "\n",
    "# def plot_traincurve(history):\n",
    "#     colors = {'loss':'r', 'acc':'b', 'val_loss':'m', 'val_acc':'g'}\n",
    "#     plt.figure(figsize=(10,6))\n",
    "#     plt.title(\"Training Curve\") \n",
    "#     plt.xlabel(\"Epoch\")\n",
    "\n",
    "#     for measure in history.keys():\n",
    "#         color = colors[measure]\n",
    "#         ln = len(history[measure])\n",
    "#         plt.plot(range(1,ln+1), history[measure], color + '-', label=measure)  # use last 2 values to draw line\n",
    "\n",
    "#     plt.legend(loc='upper left', scatterpoints = 1, frameon=False)"
   ]
  },
  {
   "cell_type": "code",
   "execution_count": null,
   "metadata": {},
   "outputs": [],
   "source": []
  },
  {
   "cell_type": "markdown",
   "metadata": {},
   "source": [
    "# Neural network original data"
   ]
  },
  {
   "cell_type": "code",
   "execution_count": 2,
   "metadata": {
    "scrolled": false
   },
   "outputs": [
    {
     "name": "stdout",
     "output_type": "stream",
     "text": [
      "60000 train samples\n",
      "10000 test samples\n",
      "Model: \"sequential\"\n",
      "_________________________________________________________________\n",
      "Layer (type)                 Output Shape              Param #   \n",
      "=================================================================\n",
      "dense (Dense)                (None, 512)               401920    \n",
      "_________________________________________________________________\n",
      "dropout (Dropout)            (None, 512)               0         \n",
      "_________________________________________________________________\n",
      "dense_1 (Dense)              (None, 512)               262656    \n",
      "_________________________________________________________________\n",
      "dropout_1 (Dropout)          (None, 512)               0         \n",
      "_________________________________________________________________\n",
      "dense_2 (Dense)              (None, 10)                5130      \n",
      "=================================================================\n",
      "Total params: 669,706\n",
      "Trainable params: 669,706\n",
      "Non-trainable params: 0\n",
      "_________________________________________________________________\n",
      "Epoch 1/30\n",
      "469/469 [==============================] - 21s 21ms/step - loss: 0.4346 - accuracy: 0.8603 - val_loss: 0.1077 - val_accuracy: 0.9679\n",
      "Epoch 2/30\n",
      "469/469 [==============================] - 8s 18ms/step - loss: 0.1086 - accuracy: 0.9666 - val_loss: 0.0755 - val_accuracy: 0.9776\n",
      "Epoch 3/30\n",
      "469/469 [==============================] - 10s 20ms/step - loss: 0.0751 - accuracy: 0.9772 - val_loss: 0.0640 - val_accuracy: 0.9819\n",
      "Epoch 4/30\n",
      "469/469 [==============================] - 8s 17ms/step - loss: 0.0575 - accuracy: 0.9825 - val_loss: 0.0695 - val_accuracy: 0.9811\n",
      "Epoch 5/30\n",
      "469/469 [==============================] - 8s 16ms/step - loss: 0.0478 - accuracy: 0.9853 - val_loss: 0.0697 - val_accuracy: 0.9816\n",
      "Epoch 6/30\n",
      "469/469 [==============================] - 9s 19ms/step - loss: 0.0405 - accuracy: 0.9874 - val_loss: 0.0764 - val_accuracy: 0.9810\n",
      "Epoch 7/30\n",
      "469/469 [==============================] - 8s 18ms/step - loss: 0.0339 - accuracy: 0.9890 - val_loss: 0.0712 - val_accuracy: 0.9816\n",
      "Epoch 8/30\n",
      "469/469 [==============================] - 8s 16ms/step - loss: 0.0286 - accuracy: 0.9909 - val_loss: 0.0879 - val_accuracy: 0.9830\n",
      "Epoch 9/30\n",
      "469/469 [==============================] - 7s 15ms/step - loss: 0.0271 - accuracy: 0.9921 - val_loss: 0.0775 - val_accuracy: 0.9836\n",
      "Epoch 10/30\n",
      "469/469 [==============================] - 8s 16ms/step - loss: 0.0259 - accuracy: 0.9925 - val_loss: 0.0970 - val_accuracy: 0.9810\n",
      "Epoch 11/30\n",
      "469/469 [==============================] - 8s 16ms/step - loss: 0.0234 - accuracy: 0.9932 - val_loss: 0.1008 - val_accuracy: 0.9816\n",
      "Epoch 12/30\n",
      "469/469 [==============================] - 8s 16ms/step - loss: 0.0244 - accuracy: 0.9925 - val_loss: 0.1068 - val_accuracy: 0.9817\n",
      "Epoch 13/30\n",
      "469/469 [==============================] - 8s 16ms/step - loss: 0.0211 - accuracy: 0.9937 - val_loss: 0.0997 - val_accuracy: 0.9850\n",
      "Epoch 14/30\n",
      "469/469 [==============================] - 7s 16ms/step - loss: 0.0214 - accuracy: 0.9942 - val_loss: 0.1001 - val_accuracy: 0.9828\n",
      "Epoch 15/30\n",
      "469/469 [==============================] - 8s 16ms/step - loss: 0.0230 - accuracy: 0.9943 - val_loss: 0.1107 - val_accuracy: 0.9822\n",
      "Epoch 16/30\n",
      "469/469 [==============================] - 7s 15ms/step - loss: 0.0181 - accuracy: 0.9944 - val_loss: 0.1116 - val_accuracy: 0.9834\n",
      "Epoch 17/30\n",
      "469/469 [==============================] - 7s 16ms/step - loss: 0.0174 - accuracy: 0.9951 - val_loss: 0.1173 - val_accuracy: 0.9835\n",
      "Epoch 18/30\n",
      "469/469 [==============================] - 7s 15ms/step - loss: 0.0157 - accuracy: 0.9951 - val_loss: 0.1094 - val_accuracy: 0.9827\n",
      "Epoch 19/30\n",
      "469/469 [==============================] - 7s 16ms/step - loss: 0.0143 - accuracy: 0.9957 - val_loss: 0.1108 - val_accuracy: 0.9845\n",
      "Epoch 20/30\n",
      "469/469 [==============================] - 8s 17ms/step - loss: 0.0166 - accuracy: 0.9955 - val_loss: 0.1281 - val_accuracy: 0.9826\n",
      "Epoch 21/30\n",
      "469/469 [==============================] - 9s 20ms/step - loss: 0.0136 - accuracy: 0.9962 - val_loss: 0.1291 - val_accuracy: 0.9838\n",
      "Epoch 22/30\n",
      "469/469 [==============================] - 8s 16ms/step - loss: 0.0144 - accuracy: 0.9962 - val_loss: 0.1226 - val_accuracy: 0.9846\n",
      "Epoch 23/30\n",
      "469/469 [==============================] - 7s 15ms/step - loss: 0.0145 - accuracy: 0.9963 - val_loss: 0.1302 - val_accuracy: 0.9825\n",
      "Epoch 24/30\n",
      "469/469 [==============================] - 7s 15ms/step - loss: 0.0133 - accuracy: 0.9964 - val_loss: 0.1469 - val_accuracy: 0.9837\n",
      "Epoch 25/30\n",
      "469/469 [==============================] - 8s 16ms/step - loss: 0.0151 - accuracy: 0.9962 - val_loss: 0.1532 - val_accuracy: 0.9803\n",
      "Epoch 26/30\n",
      "469/469 [==============================] - 7s 16ms/step - loss: 0.0118 - accuracy: 0.9970 - val_loss: 0.1461 - val_accuracy: 0.9838\n",
      "Epoch 27/30\n",
      "469/469 [==============================] - 9s 20ms/step - loss: 0.0122 - accuracy: 0.9969 - val_loss: 0.1504 - val_accuracy: 0.9849\n",
      "Epoch 28/30\n",
      "469/469 [==============================] - 8s 16ms/step - loss: 0.0160 - accuracy: 0.9961 - val_loss: 0.1439 - val_accuracy: 0.9860\n",
      "Epoch 29/30\n",
      "469/469 [==============================] - 7s 15ms/step - loss: 0.0131 - accuracy: 0.9970 - val_loss: 0.1637 - val_accuracy: 0.9820\n",
      "Epoch 30/30\n",
      "469/469 [==============================] - 7s 16ms/step - loss: 0.0125 - accuracy: 0.9971 - val_loss: 0.1537 - val_accuracy: 0.9838\n",
      "Test loss: 0.15369866788387299\n",
      "Test accuracy: 0.9837999939918518\n"
     ]
    }
   ],
   "source": [
    "batch_size = 128\n",
    "num_classes = 10\n",
    "epochs = 30\n",
    "\n",
    "# input image dimensions\n",
    "img_rows, img_cols = 28, 28\n",
    "\n",
    "# the data, split between train and test sets\n",
    "(x_train, y_train), (x_test, y_test) = mnist.load_data()\n",
    "\n",
    "x_train = x_train.reshape(60000, 784)\n",
    "x_test = x_test.reshape(10000, 784)\n",
    "x_train = x_train.astype('float32')\n",
    "x_test = x_test.astype('float32')\n",
    "x_train /= 255\n",
    "x_test /= 255\n",
    "print(x_train.shape[0], 'train samples')\n",
    "print(x_test.shape[0], 'test samples')\n",
    "\n",
    "# convert class vectors to binary class matrices\n",
    "y_train = keras.utils.to_categorical(y_train, num_classes)\n",
    "y_test = keras.utils.to_categorical(y_test, num_classes)\n",
    "\n",
    "model = Sequential()\n",
    "model.add(Dense(512, activation='relu', input_shape=(784,)))\n",
    "model.add(Dropout(0.2))\n",
    "model.add(Dense(512, activation='relu'))\n",
    "model.add(Dropout(0.2))\n",
    "model.add(Dense(num_classes, activation='softmax'))\n",
    "\n",
    "model.summary()\n",
    "\n",
    "model.compile(loss='categorical_crossentropy',\n",
    "              optimizer=RMSprop(),\n",
    "              metrics=['accuracy'])\n",
    "\n",
    "model.fit(x_train, y_train,\n",
    "        batch_size=batch_size,\n",
    "        epochs=epochs,\n",
    "        verbose=1,\n",
    "        validation_data=(x_test, y_test))\n",
    "score = model.evaluate(x_test, y_test, verbose=0)\n",
    "\n",
    "print('Test loss:', score[0])\n",
    "print('Test accuracy:', score[1])\n",
    "# plot_traincurve(history)"
   ]
  },
  {
   "cell_type": "markdown",
   "metadata": {},
   "source": [
    "# Autoencoder"
   ]
  },
  {
   "cell_type": "code",
   "execution_count": 3,
   "metadata": {
    "scrolled": false
   },
   "outputs": [
    {
     "name": "stdout",
     "output_type": "stream",
     "text": [
      "Epoch 1/30\n",
      "235/235 [==============================] - 3s 10ms/step - loss: 0.3825 - val_loss: 0.1892\n",
      "Epoch 2/30\n",
      "235/235 [==============================] - 2s 8ms/step - loss: 0.1793 - val_loss: 0.1521\n",
      "Epoch 3/30\n",
      "235/235 [==============================] - 2s 9ms/step - loss: 0.1478 - val_loss: 0.1328\n",
      "Epoch 4/30\n",
      "235/235 [==============================] - 2s 9ms/step - loss: 0.1310 - val_loss: 0.1210\n",
      "Epoch 5/30\n",
      "235/235 [==============================] - 2s 8ms/step - loss: 0.1203 - val_loss: 0.1133\n",
      "Epoch 6/30\n",
      "235/235 [==============================] - 2s 9ms/step - loss: 0.1134 - val_loss: 0.1075\n",
      "Epoch 7/30\n",
      "235/235 [==============================] - 2s 10ms/step - loss: 0.1075 - val_loss: 0.1033\n",
      "Epoch 8/30\n",
      "235/235 [==============================] - 2s 8ms/step - loss: 0.1036 - val_loss: 0.1001\n",
      "Epoch 9/30\n",
      "235/235 [==============================] - 2s 9ms/step - loss: 0.1008 - val_loss: 0.0978\n",
      "Epoch 10/30\n",
      "235/235 [==============================] - 2s 9ms/step - loss: 0.0985 - val_loss: 0.0961\n",
      "Epoch 11/30\n",
      "235/235 [==============================] - 2s 9ms/step - loss: 0.0971 - val_loss: 0.0949\n",
      "Epoch 12/30\n",
      "235/235 [==============================] - 2s 10ms/step - loss: 0.0961 - val_loss: 0.0942\n",
      "Epoch 13/30\n",
      "235/235 [==============================] - 2s 10ms/step - loss: 0.0952 - val_loss: 0.0936\n",
      "Epoch 14/30\n",
      "235/235 [==============================] - 2s 9ms/step - loss: 0.0944 - val_loss: 0.0933\n",
      "Epoch 15/30\n",
      "235/235 [==============================] - 2s 9ms/step - loss: 0.0945 - val_loss: 0.0931\n",
      "Epoch 16/30\n",
      "235/235 [==============================] - 2s 10ms/step - loss: 0.0940 - val_loss: 0.0928\n",
      "Epoch 17/30\n",
      "235/235 [==============================] - 2s 10ms/step - loss: 0.0939 - val_loss: 0.0927\n",
      "Epoch 18/30\n",
      "235/235 [==============================] - 2s 10ms/step - loss: 0.0939 - val_loss: 0.0926\n",
      "Epoch 19/30\n",
      "235/235 [==============================] - 3s 11ms/step - loss: 0.0937 - val_loss: 0.0925\n",
      "Epoch 20/30\n",
      "235/235 [==============================] - 2s 11ms/step - loss: 0.0935 - val_loss: 0.0924\n",
      "Epoch 21/30\n",
      "235/235 [==============================] - 2s 8ms/step - loss: 0.0933 - val_loss: 0.0923\n",
      "Epoch 22/30\n",
      "235/235 [==============================] - 2s 10ms/step - loss: 0.0933 - val_loss: 0.0923\n",
      "Epoch 23/30\n",
      "235/235 [==============================] - 2s 9ms/step - loss: 0.0934 - val_loss: 0.0922\n",
      "Epoch 24/30\n",
      "235/235 [==============================] - 2s 8ms/step - loss: 0.0933 - val_loss: 0.0922\n",
      "Epoch 25/30\n",
      "235/235 [==============================] - 2s 9ms/step - loss: 0.0933 - val_loss: 0.0921\n",
      "Epoch 26/30\n",
      "235/235 [==============================] - 2s 9ms/step - loss: 0.0932 - val_loss: 0.0921\n",
      "Epoch 27/30\n",
      "235/235 [==============================] - 2s 8ms/step - loss: 0.0931 - val_loss: 0.0921\n",
      "Epoch 28/30\n",
      "235/235 [==============================] - 2s 9ms/step - loss: 0.0930 - val_loss: 0.0921\n",
      "Epoch 29/30\n",
      "235/235 [==============================] - 2s 10ms/step - loss: 0.0932 - val_loss: 0.0920\n",
      "Epoch 30/30\n",
      "235/235 [==============================] - 2s 10ms/step - loss: 0.0930 - val_loss: 0.0920\n"
     ]
    }
   ],
   "source": [
    "# this is the size of our encoded representations\n",
    "encoding_dim = 32  \n",
    "\n",
    "# this is our input placeholder\n",
    "input_img = Input(shape=(784,))\n",
    "# \"encoded\" is the encoded representation of the input\n",
    "encoded = Dense(encoding_dim, activation='relu')(input_img)\n",
    "# \"decoded\" is the lossy reconstruction of the input\n",
    "decoded = Dense(784, activation='sigmoid')(encoded)\n",
    "\n",
    "# this model maps an input to its reconstruction\n",
    "autoencoder = Model(input_img, decoded)\n",
    "\n",
    "# this model maps an input to its encoded representation\n",
    "encoder = Model(input_img, encoded)\n",
    "\n",
    "# create a placeholder for an encoded (32-dimensional) input\n",
    "encoded_input = Input(shape=(encoding_dim,))\n",
    "# retrieve the last layer of the autoencoder model\n",
    "decoder_layer = autoencoder.layers[-1]\n",
    "# create the decoder model\n",
    "decoder = Model(encoded_input, decoder_layer(encoded_input))\n",
    "\n",
    "autoencoder.compile(optimizer='adam', loss='binary_crossentropy')\n",
    "\n",
    "autoencoder.fit(x_train, x_train,\n",
    "                epochs=30,\n",
    "                batch_size=256,\n",
    "                shuffle=True,\n",
    "                validation_data=(x_test, x_test))\n",
    "# plot_traincurve(history.history)\n",
    "\n",
    "encoded_imgs_train = encoder.predict(x_train)\n",
    "encoded_imgs_test = encoder.predict(x_test)\n",
    "decoded_imgs = decoder.predict(encoded_imgs_test)"
   ]
  },
  {
   "cell_type": "code",
   "execution_count": 4,
   "metadata": {},
   "outputs": [
    {
     "data": {
      "image/png": "[encoded data removed]",
      "text/plain": [
       "<Figure size 1440x288 with 20 Axes>"
      ]
     },
     "metadata": {
      "needs_background": "light"
     },
     "output_type": "display_data"
    }
   ],
   "source": [
    "n = 10  # how many digits we will display\n",
    "plt.figure(figsize=(20, 4))\n",
    "for i in range(n):\n",
    "    # display original\n",
    "    ax = plt.subplot(2, n, i + 1)\n",
    "    plt.imshow(x_test[i].reshape(28, 28))\n",
    "    plt.gray()\n",
    "    ax.get_xaxis().set_visible(False)\n",
    "    ax.get_yaxis().set_visible(False)\n",
    "\n",
    "    # display reconstruction\n",
    "    ax = plt.subplot(2, n, i + 1 + n)\n",
    "    plt.imshow(decoded_imgs[i].reshape(28, 28))\n",
    "    plt.gray()\n",
    "    ax.get_xaxis().set_visible(False)\n",
    "    ax.get_yaxis().set_visible(False)\n",
    "plt.show()"
   ]
  },
  {
   "cell_type": "markdown",
   "metadata": {},
   "source": [
    "# Neural network encoded data"
   ]
  },
  {
   "cell_type": "code",
   "execution_count": 5,
   "metadata": {
    "scrolled": false
   },
   "outputs": [
    {
     "name": "stdout",
     "output_type": "stream",
     "text": [
      "Model: \"sequential_1\"\n",
      "_________________________________________________________________\n",
      "Layer (type)                 Output Shape              Param #   \n",
      "=================================================================\n",
      "dense_5 (Dense)              (None, 512)               16896     \n",
      "_________________________________________________________________\n",
      "dropout_2 (Dropout)          (None, 512)               0         \n",
      "_________________________________________________________________\n",
      "dense_6 (Dense)              (None, 512)               262656    \n",
      "_________________________________________________________________\n",
      "dropout_3 (Dropout)          (None, 512)               0         \n",
      "_________________________________________________________________\n",
      "dense_7 (Dense)              (None, 10)                5130      \n",
      "=================================================================\n",
      "Total params: 284,682\n",
      "Trainable params: 284,682\n",
      "Non-trainable params: 0\n",
      "_________________________________________________________________\n",
      "Epoch 1/30\n",
      "469/469 [==============================] - 6s 11ms/step - loss: 0.9493 - accuracy: 0.7281 - val_loss: 0.3198 - val_accuracy: 0.9039\n",
      "Epoch 2/30\n",
      "469/469 [==============================] - 5s 10ms/step - loss: 0.3355 - accuracy: 0.8970 - val_loss: 0.2095 - val_accuracy: 0.9370\n",
      "Epoch 3/30\n",
      "469/469 [==============================] - 4s 9ms/step - loss: 0.2311 - accuracy: 0.9298 - val_loss: 0.1627 - val_accuracy: 0.9499\n",
      "Epoch 4/30\n",
      "469/469 [==============================] - 5s 10ms/step - loss: 0.1786 - accuracy: 0.9454 - val_loss: 0.1278 - val_accuracy: 0.9604\n",
      "Epoch 5/30\n",
      "469/469 [==============================] - 5s 12ms/step - loss: 0.1493 - accuracy: 0.9530 - val_loss: 0.1512 - val_accuracy: 0.9487\n",
      "Epoch 6/30\n",
      "469/469 [==============================] - 6s 13ms/step - loss: 0.1328 - accuracy: 0.9589 - val_loss: 0.1029 - val_accuracy: 0.9679\n",
      "Epoch 7/30\n",
      "469/469 [==============================] - 5s 10ms/step - loss: 0.1159 - accuracy: 0.9638 - val_loss: 0.1160 - val_accuracy: 0.9639\n",
      "Epoch 8/30\n",
      "469/469 [==============================] - 5s 10ms/step - loss: 0.1085 - accuracy: 0.9654 - val_loss: 0.0915 - val_accuracy: 0.9740\n",
      "Epoch 9/30\n",
      "469/469 [==============================] - 5s 10ms/step - loss: 0.1017 - accuracy: 0.9686 - val_loss: 0.1083 - val_accuracy: 0.9663\n",
      "Epoch 10/30\n",
      "469/469 [==============================] - 5s 10ms/step - loss: 0.0955 - accuracy: 0.9700 - val_loss: 0.0851 - val_accuracy: 0.9721\n",
      "Epoch 11/30\n",
      "469/469 [==============================] - 4s 10ms/step - loss: 0.0896 - accuracy: 0.9716 - val_loss: 0.0776 - val_accuracy: 0.9765\n",
      "Epoch 12/30\n",
      "469/469 [==============================] - 6s 12ms/step - loss: 0.0848 - accuracy: 0.9734 - val_loss: 0.1003 - val_accuracy: 0.9698\n",
      "Epoch 13/30\n",
      "469/469 [==============================] - 5s 12ms/step - loss: 0.0822 - accuracy: 0.9739 - val_loss: 0.0828 - val_accuracy: 0.9767\n",
      "Epoch 14/30\n",
      "469/469 [==============================] - 4s 9ms/step - loss: 0.0816 - accuracy: 0.9747 - val_loss: 0.0891 - val_accuracy: 0.9745\n",
      "Epoch 15/30\n",
      "469/469 [==============================] - 5s 11ms/step - loss: 0.0784 - accuracy: 0.9755 - val_loss: 0.0928 - val_accuracy: 0.9719\n",
      "Epoch 16/30\n",
      "469/469 [==============================] - 5s 11ms/step - loss: 0.0754 - accuracy: 0.9758 - val_loss: 0.0738 - val_accuracy: 0.9791\n",
      "Epoch 17/30\n",
      "469/469 [==============================] - 5s 10ms/step - loss: 0.0694 - accuracy: 0.9781 - val_loss: 0.0701 - val_accuracy: 0.9799\n",
      "Epoch 18/30\n",
      "469/469 [==============================] - 5s 10ms/step - loss: 0.0707 - accuracy: 0.9786 - val_loss: 0.0759 - val_accuracy: 0.9793\n",
      "Epoch 19/30\n",
      "469/469 [==============================] - 5s 10ms/step - loss: 0.0697 - accuracy: 0.9782 - val_loss: 0.0762 - val_accuracy: 0.9784\n",
      "Epoch 20/30\n",
      "469/469 [==============================] - 5s 10ms/step - loss: 0.0674 - accuracy: 0.9799 - val_loss: 0.0782 - val_accuracy: 0.9762\n",
      "Epoch 21/30\n",
      "469/469 [==============================] - 5s 10ms/step - loss: 0.0666 - accuracy: 0.9795 - val_loss: 0.0845 - val_accuracy: 0.9779\n",
      "Epoch 22/30\n",
      "469/469 [==============================] - 5s 10ms/step - loss: 0.0643 - accuracy: 0.9790 - val_loss: 0.0859 - val_accuracy: 0.9763\n",
      "Epoch 23/30\n",
      "469/469 [==============================] - 5s 10ms/step - loss: 0.0608 - accuracy: 0.9807 - val_loss: 0.0818 - val_accuracy: 0.9793\n",
      "Epoch 24/30\n",
      "469/469 [==============================] - 5s 10ms/step - loss: 0.0610 - accuracy: 0.9810 - val_loss: 0.0754 - val_accuracy: 0.9804\n",
      "Epoch 25/30\n",
      "469/469 [==============================] - 5s 10ms/step - loss: 0.0585 - accuracy: 0.9818 - val_loss: 0.0695 - val_accuracy: 0.9811\n",
      "Epoch 26/30\n",
      "469/469 [==============================] - 5s 10ms/step - loss: 0.0588 - accuracy: 0.9811 - val_loss: 0.0746 - val_accuracy: 0.9790\n",
      "Epoch 27/30\n",
      "469/469 [==============================] - 5s 10ms/step - loss: 0.0580 - accuracy: 0.9820 - val_loss: 0.0783 - val_accuracy: 0.9788\n",
      "Epoch 28/30\n",
      "469/469 [==============================] - 5s 10ms/step - loss: 0.0574 - accuracy: 0.9824 - val_loss: 0.0911 - val_accuracy: 0.9767\n",
      "Epoch 29/30\n",
      "469/469 [==============================] - 4s 9ms/step - loss: 0.0558 - accuracy: 0.9827 - val_loss: 0.0639 - val_accuracy: 0.9831\n",
      "Epoch 30/30\n",
      "469/469 [==============================] - 5s 11ms/step - loss: 0.0567 - accuracy: 0.9824 - val_loss: 0.0879 - val_accuracy: 0.9780\n",
      "Test loss: 0.08785980939865112\n",
      "Test accuracy: 0.9779999852180481\n"
     ]
    }
   ],
   "source": [
    "encoded_imgs_train_normalized = encoded_imgs_train / np.max(encoded_imgs_train)\n",
    "encoded_imgs_test_normalized = encoded_imgs_test / np.max(encoded_imgs_test)\n",
    "\n",
    "model = Sequential()\n",
    "model.add(Dense(512, activation='relu', input_shape=(encoding_dim,)))\n",
    "model.add(Dropout(0.2))\n",
    "model.add(Dense(512, activation='relu'))\n",
    "model.add(Dropout(0.2))\n",
    "model.add(Dense(num_classes, activation='softmax'))\n",
    "\n",
    "model.summary()\n",
    "\n",
    "model.compile(loss='categorical_crossentropy',\n",
    "              optimizer=RMSprop(),\n",
    "              metrics=['accuracy'])\n",
    "\n",
    "model.fit(encoded_imgs_train_normalized, y_train,\n",
    "                    batch_size=batch_size,\n",
    "                    epochs=epochs,\n",
    "                    verbose=1,\n",
    "                    validation_data=(encoded_imgs_test_normalized, y_test))\n",
    "score = model.evaluate(encoded_imgs_test_normalized, y_test, verbose=0)\n",
    "\n",
    "print('Test loss:', score[0])\n",
    "print('Test accuracy:', score[1])\n",
    "# plot_traincurve(history)"
   ]
  },
  {
   "cell_type": "markdown",
   "metadata": {},
   "source": [
    "# SVM original data"
   ]
  },
  {
   "cell_type": "code",
   "execution_count": 7,
   "metadata": {},
   "outputs": [
    {
     "name": "stdout",
     "output_type": "stream",
     "text": [
      "Linear SVM accuracy:  0.9181\n"
     ]
    },
    {
     "name": "stderr",
     "output_type": "stream",
     "text": [
      "/home/minhvu/anaconda3/lib/python3.8/site-packages/sklearn/svm/_base.py:976: ConvergenceWarning: Liblinear failed to converge, increase the number of iterations.\n",
      "  warnings.warn(\"Liblinear failed to converge, increase \"\n"
     ]
    }
   ],
   "source": [
    "clf_svm = LinearSVC()\n",
    "clf_svm.fit(x_train, np.argmax(y_train, axis=1))\n",
    "y_pred_svm = clf_svm.predict(x_test)\n",
    "acc_svm = accuracy_score(np.argmax(y_test, axis=1), y_pred_svm)\n",
    "print ('Linear SVM accuracy: ',acc_svm)"
   ]
  },
  {
   "cell_type": "markdown",
   "metadata": {},
   "source": [
    "# SVM encoded data"
   ]
  },
  {
   "cell_type": "code",
   "execution_count": 8,
   "metadata": {},
   "outputs": [
    {
     "name": "stdout",
     "output_type": "stream",
     "text": [
      "Linear SVM accuracy:  0.8883\n"
     ]
    }
   ],
   "source": [
    "clf_svm = LinearSVC()\n",
    "clf_svm.fit(encoded_imgs_train_normalized, np.argmax(y_train, axis=1))\n",
    "y_pred_svm = clf_svm.predict(encoded_imgs_test_normalized)\n",
    "acc_svm = accuracy_score(np.argmax(y_test, axis=1), y_pred_svm)\n",
    "print('Linear SVM accuracy: ',acc_svm)"
   ]
  },
  {
   "cell_type": "markdown",
   "metadata": {},
   "source": [
    "# Random Forest original data"
   ]
  },
  {
   "cell_type": "code",
   "execution_count": 9,
   "metadata": {},
   "outputs": [
    {
     "name": "stdout",
     "output_type": "stream",
     "text": [
      "random forest accuracy:  0.9693\n"
     ]
    }
   ],
   "source": [
    "clf_rf = RandomForestClassifier()\n",
    "clf_rf.fit(x_train, np.argmax(y_train, axis=1))\n",
    "y_pred_rf = clf_rf.predict(x_test)\n",
    "acc_rf = accuracy_score(np.argmax(y_test, axis=1), y_pred_rf)\n",
    "print ('random forest accuracy: ',acc_rf)"
   ]
  },
  {
   "cell_type": "markdown",
   "metadata": {},
   "source": [
    "# Random Forest encoded data"
   ]
  },
  {
   "cell_type": "code",
   "execution_count": 10,
   "metadata": {},
   "outputs": [
    {
     "name": "stdout",
     "output_type": "stream",
     "text": [
      "random forest accuracy:  0.9419\n"
     ]
    }
   ],
   "source": [
    "clf_rf = RandomForestClassifier()\n",
    "clf_rf.fit(encoded_imgs_train_normalized, np.argmax(y_train, axis=1))\n",
    "y_pred_rf = clf_rf.predict(encoded_imgs_test_normalized)\n",
    "acc_rf = accuracy_score(np.argmax(y_test, axis=1), y_pred_rf)\n",
    "print('random forest accuracy: ',acc_rf)"
   ]
  },
  {
   "cell_type": "code",
   "execution_count": null,
   "metadata": {},
   "outputs": [],
   "source": []
  }
 ],
 "metadata": {
  "kernelspec": {
   "display_name": "Python 3",
   "language": "python",
   "name": "python3"
  },
  "language_info": {
   "codemirror_mode": {
    "name": "ipython",
    "version": 3
   },
   "file_extension": ".py",
   "mimetype": "text/x-python",
   "name": "python",
   "nbconvert_exporter": "python",
   "pygments_lexer": "ipython3",
   "version": "3.8.5"
  }
 },
 "nbformat": 4,
 "nbformat_minor": 2
}
